{
 "cells": [
  {
   "cell_type": "code",
   "execution_count": 1,
   "id": "0b3cce3b-7b69-4f5b-bc4b-9bfe9dea3b8d",
   "metadata": {
    "editable": true,
    "slideshow": {
     "slide_type": ""
    },
    "tags": [
     "export"
    ]
   },
   "outputs": [],
   "source": [
    "import sys, os, warnings, re, itertools, json, math \n",
    "\n",
    "import openai\n",
    "from joblib import Memory\n",
    "import tiktoken\n",
    "import spacy\n",
    "\n",
    "#from dotenv import load_dotenv, find_dotenv\n",
    "#_ = load_dotenv(find_dotenv()) # read local .env file\n",
    "\n",
    "#cachedir = './cache_dir'  # Directory to store joblib cache\n",
    "memory = Memory(cachedir, verbose=0)\n"
   ]
  },
  {
   "cell_type": "code",
   "execution_count": 2,
   "id": "50a4fb29-f7eb-4518-a0d4-3567269fd415",
   "metadata": {
    "editable": true,
    "slideshow": {
     "slide_type": ""
    },
    "tags": [
     "export"
    ]
   },
   "outputs": [],
   "source": [
    "#openai.api_key  = os.getenv('OPENAI_API_KEY')\n",
    "client = openai.OpenAI()\n",
    "\n",
    "@memory.cache\n",
    "def get_completion(prompt,system_message=\"You are a helpful assistant.\", model=\"gpt-4-turbo\", temperature=0, JSON_mode=False):\n",
    "    if JSON_mode:\n",
    "        return client.chat.completions.create(model=model, temperature=temperature, \n",
    "            response_format={ \"type\": \"json_object\" },                  \n",
    "            messages=[{\"role\": \"system\", \"content\": system_message},{\"role\": \"user\", \"content\": prompt}])\n",
    "    else:\n",
    "        return client.chat.completions.create(model=model, temperature=temperature, \n",
    "            messages=[{\"role\": \"system\", \"content\": system_message},{\"role\": \"user\", \"content\": prompt}])\n",
    "        \n",
    "def get_completion_content(prompt,system_message=\"You are a helpful assistant.\", model=\"gpt-4-0125-preview\", temperature=0, JSON_mode=False):\n",
    "    completion = get_completion(prompt,system_message, model, temperature, JSON_mode)\n",
    "    return completion.choices[0].message.content\n"
   ]
  },
  {
   "cell_type": "code",
   "execution_count": 9,
   "id": "d43c5061-18ec-42e9-809d-49268d58780f",
   "metadata": {
    "editable": true,
    "slideshow": {
     "slide_type": ""
    },
    "tags": [
     "export"
    ]
   },
   "outputs": [],
   "source": [
    "def one_chunk_initial_translation(source_lang, target_lang, source_text): \n",
    "    \"\"\"Use an LLM to translate the entire text as one chunk.\"\"\" \n",
    "    \n",
    "    system_message = f\"You are an expert language translator, specializing in {source_lang} to {target_lang} translation.\"\n",
    "     \n",
    "    translation_prompt = f\"\"\"Your task is provide a professional translation of a text from {source_lang} to {target_lang}.  \n",
    "    \n",
    "Translate the text below, delimited by XML tags <SOURCE_TEXT> and </SOURCE_TEXT> and output the translation. \n",
    "Do not output anything other than the translation. \n",
    "  \n",
    "<SOURCE_TEXT>\n",
    "{source_text}\n",
    "</SOURCE_TEXT> \n",
    "\"\"\"\n",
    "    prompt = translation_prompt.format(source_text=source_text) \n",
    "    \n",
    "    translation = get_completion_content(prompt, system_message=system_message) \n",
    "    \n",
    "    return translation\n",
    "\n",
    "def one_chunk_reflect_on_translation(source_lang, target_lang, source_text, translation1):  \n",
    "    \"\"\"Use an LLM to reflect on the translation, treating the entire text as one chunk.\"\"\" \n",
    "\n",
    "    system_message = f\"You are an expert language translator and mentor, specializing in {source_lang} to {target_lang} translation.\"\n",
    "\n",
    "    reflection_prompt = \"\"\"Your task is to carefully read a source text and a translation from {source_lang} to {target_lang}, and then give constructive criticism and helpful suggestions for the translation. \n",
    "\n",
    "The source text and initial translation, delimited by XML tags <SOURCE_TEXT> and <TRANSLATION>, are as follows:\n",
    "\n",
    "<SOURCE_TEXT>\n",
    "{source_text}\n",
    "</SOURCE_TEXT>\n",
    "\n",
    "<TRANSLATION>\n",
    "{translation1}\n",
    "</TRANSLATION>\n",
    "\n",
    "When writing suggestions, pay attention to whether there are ways to improve the translation's \\\n",
    "(i) accuracy (by correcting errors of addition, mistranslation, omission, untranslated text), \n",
    "(ii) fluency (grammar, inconsistency, punctuation, register, spelling), \\\n",
    "(iii) style (fix awkward wording), \n",
    "(iv) terminology (inappropriate for context, inconsistent use), or \\\n",
    "(v) other errors. \n",
    "\n",
    "Write a list of specific, helpful and constructive suggestions for improving the translation. \n",
    "Each suggestion should address one specific part of the translation.\"\"\"\n",
    "\n",
    "    prompt = reflection_prompt.format(source_lang=source_lang, target_lang=target_lang, source_text=source_text, translation1=translation1) \n",
    "    reflection = get_completion_content(prompt, system_message=system_message)\n",
    "\n",
    "    return reflection\n",
    "\n",
    "def one_chunk_improve_translation(source_lang, target_lang, source_text, translation1, reflection):\n",
    "    \"\"\"Use the reflection to improve the translation, treating the entire text as one chunk.\"\"\" \n",
    "\n",
    "    system_message = f\"You are an expert language translator, specializing in {source_lang} to {target_lang} translation.\"\n",
    "\n",
    "    improvement_prompt = \"\"\"Your task is to carefully read, then improve, a translation from {source_lang} to {target_lang}, taking into \n",
    "account a set of expert suggestions and constructive criticisms. \n",
    "\n",
    "The source text, initial translation, and expert suggestions, delimited by XML tags <SOURCE_TEXT>, <TRANSLATION> and <EXPERT_SUGGESTIONS> are as follows: \n",
    "\n",
    "<SOURCE_TEXT>\n",
    "{source_text}\n",
    "</SOURCE_TEXT>\n",
    "\n",
    "<TRANSLATION>\n",
    "{translation1}\n",
    "</TRANSLATION>\n",
    "\n",
    "<EXPERT_SUGGESTIONS>\n",
    "{reflection}\n",
    "</EXPERT_SUGGESTIONS>\n",
    "\n",
    "Taking into account the expert suggestions rewrite the translation to improve it, paying attention \n",
    "to whether there are ways to improve the translation's \\\n",
    "(i) accuracy (by correcting errors of addition, mistranslation, omission, untranslated text), \n",
    "(ii) fluency (grammar, inconsistency, punctuation, register, spelling), \\\n",
    "(iii) style (fix awkward wording), \n",
    "(iv) terminology (inappropriate for context, inconsistent use), or \\\n",
    "(v) other errors. Output the list of suggestions in JSON, using the key \"suggestions\".\n",
    "\n",
    "Output the new translation, and nothing else.\"\"\"\n",
    "\n",
    "    prompt = improvement_prompt.format(source_lang=source_lang, target_lang=target_lang, source_text = source_text, translation1=translation1, reflection=reflection)\n",
    "    translation2 = get_completion_content(prompt, system_message)\n",
    "\n",
    "    return translation2\n",
    "\n",
    "\n",
    "def one_chunk_translate_text(source_lang, target_lang, source_text):\n",
    "    \"\"\"Get a first translation, reflect on it, then output an improved translation. Treat the text to be translated as one chunk.\"\"\"    \n",
    "    translation1 = one_chunk_initial_translation(source_lang, target_lang, source_text) \n",
    "    #print(f\"-------\\nTranslation1: {translation1}\\n\")\n",
    "    reflection = one_chunk_reflect_on_translation(source_lang, target_lang, source_text, translation1)\n",
    "    #print(f\"-------\\nReflection: {reflection}\\n\")\n",
    "    translation2 = one_chunk_improve_translation(source_lang, target_lang, source_text, translation1, reflection)  \n",
    "    #print(f\"-------\\nTranslation2: {translation2}\\n\")\n",
    "\n",
    "    return translation2 "
   ]
  },
  {
   "cell_type": "code",
   "execution_count": 4,
   "id": "12365195-1dd6-43fb-a118-f8b8e6fe0fe8",
   "metadata": {
    "editable": true,
    "slideshow": {
     "slide_type": ""
    },
    "tags": [
     "export"
    ]
   },
   "outputs": [],
   "source": [
    "\n",
    "english_model = None   # spacy.load(\"en_core_web_sm\")\n",
    "\n",
    "def find_sentence_starts(text):\n",
    "    global english_model\n",
    "    if english_model is None:\n",
    "        english_model = spacy.load(\"en_core_web_sm\")   # load the english model \n",
    "        \n",
    "    doc = english_model(text)\n",
    "    \n",
    "    # To store the indices of the first character of each sentence\n",
    "    sentence_starts = []\n",
    "    \n",
    "    # Iterate over the sentences\n",
    "    for sent in doc.sents:\n",
    "        # Find the start index of the first character of each sentence\n",
    "        start_index = sent.start_char\n",
    "        sentence_starts.append(start_index)\n",
    "    \n",
    "    return sentence_starts\n"
   ]
  },
  {
   "cell_type": "code",
   "execution_count": 5,
   "id": "c31e93d3-37ba-469e-8e86-22e88c4e56db",
   "metadata": {
    "editable": true,
    "slideshow": {
     "slide_type": ""
    },
    "tags": [
     "export"
    ]
   },
   "outputs": [],
   "source": [
    "def num_tokens_in_string(str, encoding_name=\"cl100k_base\"): \n",
    "    \"\"\"Number of tokens. Default to using most commonly used encoder, cl100k_base (used by GPT-4)\"\"\"\n",
    "    encoding = tiktoken.get_encoding(encoding_name)\n",
    "    num_tokens = len(encoding.encode(str))\n",
    "    return num_tokens\n",
    "\n",
    "\n",
    "# Horribly inefficient linear search, but shouldn't matter \n",
    "def index_of_closest_value(values, target_value):\n",
    "    \"\"\"Given a list of values and a specific target_value, find the index of the closest value in the list. (Inefficient implementation using linear search.)\"\"\"\n",
    "    \n",
    "    closest_value = values[0]  \n",
    "    index_of_closest_value = 0 \n",
    "    min_diff = abs(target_value - closest_value) \n",
    "\n",
    "    for i in range(1,len(values)):  # Start from the second element\n",
    "        val = values[i]\n",
    "        diff = abs(target_value - val)\n",
    "        if diff < min_diff:\n",
    "            min_diff = diff\n",
    "            closest_value = val\n",
    "            index_of_closest_value = i \n",
    "\n",
    "    return index_of_closest_value\n",
    "\n"
   ]
  },
  {
   "cell_type": "code",
   "execution_count": 6,
   "id": "e96b025b-6e87-44db-87c6-b2c9bd136dbe",
   "metadata": {
    "editable": true,
    "slideshow": {
     "slide_type": ""
    },
    "tags": [
     "export"
    ]
   },
   "outputs": [],
   "source": [
    "def multichunk_initial_translation(source_lang, target_lang, source_text_chunks): \n",
    "    system_message = f\"You are an expert language translator, specializing in {source_lang} to {target_lang} translation.\"\n",
    "    \n",
    "    translation_prompt = \"\"\"Your task is provide a professional translation from {source_lang} to {target_lang} of PART of a text.  \n",
    "\n",
    "The source text is below, delimited by XML tags <SOURCE_TEXT> and </SOURCE_TEXT>. Translate only the part within the source text\n",
    "delimited by <TRANSLATE_THIS> and </TRANSLATE_THIS>. You can use the rest of the source text as context, but do not translate any \n",
    "of the other text. Do not output anything other the translation of the indicated part of the text.\n",
    "\n",
    "<SOURCE_TEXT>\n",
    "{tagged_text}\n",
    "</SOURCE_TEXT> \n",
    "\n",
    "To reiterate, you should translate only this part of the text, shown here again between <TRANSLATE_THIS> and </TRANSLATE_THIS>:\n",
    "<TRANSLATE_THIS>\n",
    "{chunk_to_translate} \n",
    "</TRANSLATE_THIS>\n",
    "\n",
    "Output only the translation of the portion you are asked to translate, and nothing else.\n",
    "\"\"\"\n",
    "\n",
    "    translation_chunks = [] \n",
    "    for i in range(len(source_text_chunks)):\n",
    "        # Will translate chunk i \n",
    "        tagged_text = ( \"\".join(source_text_chunks[0:i]) + \n",
    "                        \"<TRANSLATE_THIS>\" + source_text_chunks[i] + \"</TRANSLATE_THIS>\" + \n",
    "                        \"\".join(source_text_chunks[i+1:]) )\n",
    "    \n",
    "        prompt = translation_prompt.format(source_lang=source_lang, target_lang=target_lang, tagged_text=tagged_text, chunk_to_translate=source_text_chunks[i]) \n",
    "        #print(f\"-------------\\n{prompt}\")\n",
    "        \n",
    "        translation = get_completion_content(prompt,system_message=system_message) \n",
    "        translation_chunks.append(translation)\n",
    "    \n",
    "    return translation_chunks\n",
    "\n",
    "def multichunk_reflect_on_translation(source_lang, target_lang, source_text_chunks, translation1_chunks):  \n",
    "    system_message = f\"You are an expert language translator and mentor, specializing in {source_lang} to {target_lang} translation.\"\n",
    "\n",
    "    reflection_prompt = \"\"\"Your task is to carefully read a source text and part of a translation of that text from {source_lang} to {target_lang}, and then give constructive criticism and helpful suggestions for improving the translation. \n",
    "\n",
    "The source text is below, delimited by XML tags <SOURCE_TEXT> and </SOURCE_TEXT>, and the part that has been translated \n",
    "is delimited by <TRANSLATE_THIS> and </TRANSLATE_THIS> within the source text. You can use the rest of the source text \n",
    "as context for critiquing the translated part. \n",
    "\n",
    "<SOURCE_TEXT>\n",
    "{tagged_text}\n",
    "</SOURCE_TEXT> \n",
    "\n",
    "To reiterate, only part of the text is being translated, shown here again between <TRANSLATE_THIS> and </TRANSLATE_THIS>:\n",
    "<TRANSLATE_THIS>\n",
    "{chunk_to_translate} \n",
    "</TRANSLATE_THIS>\n",
    "\n",
    "The translation of the indicated part, delimited below by <TRANSLATION> and </TRANSLATION>, is as follows:\n",
    "<TRANSLATION>\n",
    "{translation1_chunk}\n",
    "</TRANSLATION>\n",
    "\n",
    "When writing suggestions, pay attention to whether there are ways to improve the translation's: \n",
    "(i) accuracy (by correcting errors of addition, mistranslation, omission, untranslated text), \n",
    "(ii) fluency (grammar, inconsistency, punctuation, register, spelling), \n",
    "(iii) style (fix awkward wording), \n",
    "(iv) terminology (inappropriate for context, inconsistent use), or \n",
    "(v) other errors. \n",
    "\n",
    "Write a list of specific, helpful and constructive suggestions for improving the translation. \n",
    "Each suggestion should address one specific part of the translation.\"\"\"\n",
    "\n",
    "    reflection_chunks = [] \n",
    "    for i in range(len(source_text_chunks)):\n",
    "        # Will translate chunk i \n",
    "        tagged_text = ( \"\".join(source_text_chunks[0:i]) + \n",
    "                        \"<TRANSLATE_THIS>\" + source_text_chunks[i] + \"</TRANSLATE_THIS>\" + \n",
    "                        \"\".join(source_text_chunks[i+1:]) )\n",
    "    \n",
    "        prompt = reflection_prompt.format(source_lang=source_lang, target_lang=target_lang, tagged_text=tagged_text, \n",
    "                                          chunk_to_translate=source_text_chunks[i], translation1_chunk=translation1_chunks[i])\n",
    "        #print(f\"-------------\\n{prompt}\")\n",
    "        \n",
    "        reflection = get_completion_content(prompt, system_message=system_message) \n",
    "        reflection_chunks.append(reflection)\n",
    "    \n",
    "    return reflection_chunks\n",
    "\n",
    "\n",
    "def multichunk_improve_translation(source_lang, target_lang, source_text_chunks, translation1_chunks, reflection_chunks):\n",
    "    system_message = f\"You are an expert language translator, specializing in {source_lang} to {target_lang} translation.\"\n",
    "\n",
    "    improvement_prompt = \"\"\"Your task is to carefully read, then improve, a translation from {source_lang} to {target_lang}, taking into \n",
    "account a set of expert suggestions and constructive critisms. Below, the source text, initial translation, and expert suggestions are provided.\n",
    " \n",
    "The source text is below, delimited by XML tags <SOURCE_TEXT> and </SOURCE_TEXT>, and the part that has been translated \n",
    "is delimited by <TRANSLATE_THIS> and </TRANSLATE_THIS> within the source text. You can use the rest of the source text \n",
    "as context, but need to provide a translation only of the part indicated by <TRANSLATE_THIS> and </TRANSLATE_THIS>. \n",
    "\n",
    "<SOURCE_TEXT>\n",
    "{tagged_text}\n",
    "</SOURCE_TEXT> \n",
    "\n",
    "To reiterate, only part of the text is being translated, shown here again between <TRANSLATE_THIS> and </TRANSLATE_THIS>:\n",
    "<TRANSLATE_THIS>\n",
    "{chunk_to_translate} \n",
    "</TRANSLATE_THIS>\n",
    "\n",
    "The translation of the indicated part, delimited below by <TRANSLATION> and </TRANSLATION>, is as follows:\n",
    "<TRANSLATION>\n",
    "{translation1_chunk}\n",
    "</TRANSLATION>\n",
    "\n",
    "The expert translations of the indicated part, delimited below by <EXPERT_SUGGESTIONS> and </EXPERT_SUGGESTIONS>, is as follows:\n",
    "<EXPERT_SUGGESTIONS>\n",
    "{reflection_chunk}\n",
    "</EXPERT_SUGGESTIONS>\n",
    "\n",
    "Taking into account the expert suggestions rewrite the translation to improve it, paying attention \n",
    "to whether there are ways to improve the translation's \n",
    "(i) accuracy (by correcting errors of addition, mistranslation, omission, untranslated text), \n",
    "(ii) fluency (grammar, inconsistency, punctuation, register, spelling), \n",
    "(iii) style (fix awkward wording), \n",
    "(iv) terminology (inappropriate for context, inconsistent use), or \n",
    "(v) other errors. Output the list of suggestions in JSON, using the key \"suggestions\".\n",
    "\n",
    "Output the new translation of the indicated part, and nothing else.\"\"\"\n",
    "\n",
    "    translation2_chunks = [] \n",
    "    for i in range(len(source_text_chunks)):\n",
    "        # Will translate chunk i \n",
    "        tagged_text = ( \"\".join(source_text_chunks[0:i]) + \n",
    "                        \"<TRANSLATE_THIS>\" + source_text_chunks[i] + \"</TRANSLATE_THIS>\" + \n",
    "                        \"\".join(source_text_chunks[i+1:]) )\n",
    "\n",
    "        prompt = improvement_prompt.format(source_lang=source_lang, target_lang=target_lang, tagged_text=tagged_text, \n",
    "                                          chunk_to_translate=source_text_chunks[i], translation1_chunk=translation1_chunks[i], reflection_chunk=reflection_chunks[i])\n",
    "        #print(f\"-------------\\n{prompt}\")\n",
    "        \n",
    "        translation2 = get_completion_content(prompt, system_message=system_message) \n",
    "        translation2_chunks.append(translation2)\n",
    "    \n",
    "    return translation2_chunks\n",
    "\n",
    "\n",
    "def multichunk_translation(source_lang, target_lang, source_text_chunks): \n",
    "    translation1_chunks = multichunk_initial_translation(\"English\", \"Spanish\", source_text_chunks)\n",
    "    #for t in translation1_chunks:\n",
    "    #    print(t + \"\\n----\\n\") \n",
    "\n",
    "    reflection_chunks = multichunk_reflect_on_translation(source_lang, target_lang, source_text_chunks, translation1_chunks) \n",
    "    #for t in reflection_chunks:\n",
    "    #    print(t + \"\\n----\\n\") \n",
    "\n",
    "    translation2_chunks = multichunk_improve_translation(source_lang, target_lang, source_text_chunks, translation1_chunks, reflection_chunks)\n",
    "\n",
    "    return translation2_chunks \n"
   ]
  },
  {
   "cell_type": "code",
   "execution_count": 7,
   "id": "279dfd85-ff9b-41de-925e-3f1601f611a7",
   "metadata": {
    "editable": true,
    "slideshow": {
     "slide_type": ""
    },
    "tags": [
     "export"
    ]
   },
   "outputs": [],
   "source": [
    "MAX_TOKENS_PER_CHUNK = 1000   # if text is more than this many tokens, we'll break it up into\n",
    "                              # discrete chunks to translate one chunk at a time \n",
    "\n",
    "def translate(source_lang, target_lang, source_text):\n",
    "    \"\"\"Translate the source_text from source_lang to target_lang.\"\"\"\n",
    "    \n",
    "    global MAX_TOKENS_PER_CHUNK \n",
    "    \n",
    "    num_tokens_in_text = num_tokens_in_string(source_text)\n",
    "\n",
    "    if num_tokens_in_text <= MAX_TOKENS_PER_CHUNK:\n",
    "        print(f\"Translating text as single chunk\") \n",
    "\n",
    "        return one_chunk_translate_text(source_lang, target_lang, source_text)\n",
    "\n",
    "    # We've implemented a sentence splitter only for English, so if doing multi-chunk, \n",
    "    # make sure the source language is English. \n",
    "    if source_lang != \"English\": \n",
    "        sys.error(\"Sorry, only English source language supported for now for \"\n",
    "                  \"translation for long (multi-chunk) texts.\") \n",
    "    \n",
    "    potential_breakpoints = find_sentence_starts(source_text)   # use start of sentences as potential places to break up the text into chunks\n",
    "    num_sentences = len(potential_breakpoints)\n",
    "    potential_breakpoints.append(len(source_text))\n",
    "    \n",
    "    tokens_in_sentence = []   # tokens_in_sentence[i] is the number of tokens in the i-th sentence \n",
    "    for i in range(num_sentences):\n",
    "        start_index = potential_breakpoints[i]\n",
    "        end_index = potential_breakpoints[i+1] \n",
    "        tokens_in_sentence.append(num_tokens_in_string(source_text[start_index:end_index]))\n",
    "\n",
    "    # Look at the total number of tokens, and MAX_TOKENS_PER_CHUNK to figure out how many chunks we need \n",
    "    total_tokens = sum(tokens_in_sentence)    # should be similar to num_tokens_in_text above \n",
    "    num_chunks = math.ceil(float(total_tokens)/MAX_TOKENS_PER_CHUNK)\n",
    "    print(f\"Translating text as {num_chunks} chunks\") \n",
    "\n",
    "    # The location of the breakpoints if we chopped the text into num_chunks equal-size chunks (equal number of tokens) \n",
    "    desired_length_per_chunk = float(total_tokens)/num_chunks     \n",
    "    desired_breakpoints = [i * desired_length_per_chunk for i in range(num_chunks)]  \n",
    "    desired_breakpoints.append(total_tokens) \n",
    "\n",
    "    # Pick the specific places where we'll break up the text into num_chunks\n",
    "    cum_tokens_count = [0] + list(itertools.accumulate(tokens_in_sentence))\n",
    "    actual_breakpoints = []\n",
    "    for i in desired_breakpoints:\n",
    "        actual_breakpoints.append(index_of_closest_value(cum_tokens_count, i))\n",
    "\n",
    "    #print(actual_breakpoints) \n",
    "    #print([cum_tokens_count[i] for i in actual_breakpoints]) \n",
    "\n",
    "    source_text_chunks = [] \n",
    "    for i in range(num_chunks):\n",
    "        source_text_chunks.append(source_text[potential_breakpoints[actual_breakpoints[i]]:potential_breakpoints[actual_breakpoints[i+1]]])\n",
    "\n",
    "    translation2_chunks = multichunk_translation(source_lang, target_lang, source_text_chunks)\n",
    "\n",
    "    return \"\".join(translation2_chunks) "
   ]
  },
  {
   "cell_type": "code",
   "execution_count": null,
   "id": "1df029c2-ec7f-4ef0-8a04-409e2a8c7d6a",
   "metadata": {
    "editable": true,
    "slideshow": {
     "slide_type": ""
    },
    "tags": []
   },
   "outputs": [],
   "source": []
  },
  {
   "cell_type": "code",
   "execution_count": null,
   "id": "524e8e48-062d-4d7b-811d-a76450b47bdf",
   "metadata": {
    "editable": true,
    "slideshow": {
     "slide_type": ""
    },
    "tags": []
   },
   "outputs": [],
   "source": []
  },
  {
   "cell_type": "code",
   "execution_count": 18,
   "id": "fd394b50-e755-4579-b8bd-aa982d9c3527",
   "metadata": {
    "editable": true,
    "slideshow": {
     "slide_type": ""
    },
    "tags": []
   },
   "outputs": [],
   "source": [
    "#print(len(source_text), len(translation2b)) \n",
    "#print(translation2b)"
   ]
  },
  {
   "cell_type": "code",
   "execution_count": null,
   "id": "0de4b670-920a-42fe-be18-007c45791884",
   "metadata": {
    "editable": true,
    "slideshow": {
     "slide_type": ""
    },
    "tags": []
   },
   "outputs": [],
   "source": []
  },
  {
   "cell_type": "code",
   "execution_count": null,
   "id": "310bffc0-5e74-4fdb-b0ea-a520caaf9f18",
   "metadata": {
    "editable": true,
    "slideshow": {
     "slide_type": ""
    },
    "tags": []
   },
   "outputs": [],
   "source": []
  },
  {
   "cell_type": "markdown",
   "id": "9681da2d-bf5e-466d-bb1e-4267ce6e3cc6",
   "metadata": {
    "editable": true,
    "slideshow": {
     "slide_type": ""
    },
    "tags": []
   },
   "source": [
    "# Testing code"
   ]
  },
  {
   "cell_type": "code",
   "execution_count": null,
   "id": "32776405-7194-42bb-a23e-a9b3c73370d3",
   "metadata": {
    "editable": true,
    "slideshow": {
     "slide_type": ""
    },
    "tags": []
   },
   "outputs": [],
   "source": [
    "(source_lang, target_lang) = (\"English\", \"Spanish\")\n",
    "\n",
    "filename = f\"data/sample-long1.txt\"\n",
    "with open(filename, 'r', encoding='utf-8') as file:\n",
    "    source_text = file.read()\n",
    "\n",
    "translation2b = translate(source_lang, target_lang, source_text) "
   ]
  },
  {
   "cell_type": "markdown",
   "id": "fc653e13-7559-430b-86ad-3e69ba8658af",
   "metadata": {
    "editable": true,
    "slideshow": {
     "slide_type": ""
    },
    "tags": []
   },
   "source": []
  },
  {
   "cell_type": "code",
   "execution_count": null,
   "id": "484452da-799c-4801-864b-0f2a867e6e92",
   "metadata": {
    "editable": true,
    "slideshow": {
     "slide_type": ""
    },
    "tags": []
   },
   "outputs": [],
   "source": [
    "\n",
    "source_texts_list = []\n",
    "for i in range(10):\n",
    "    counter = i+1   # goes from 1 to 10 \n",
    "    filename = f\"data/sample{counter}.txt\"\n",
    "    with open(filename, 'r', encoding='utf-8') as file:\n",
    "        source_texts_list.append(file.read()) "
   ]
  },
  {
   "cell_type": "markdown",
   "id": "9e26ae23-1a1f-4484-8bf6-7cba2bd77c80",
   "metadata": {
    "editable": true,
    "slideshow": {
     "slide_type": ""
    },
    "tags": []
   },
   "source": [
    "# Experimental \"Two prompts\" version of algorithm "
   ]
  },
  {
   "cell_type": "code",
   "execution_count": null,
   "id": "cd02a076-0e34-42b8-a8ad-da8efbcadee8",
   "metadata": {
    "editable": true,
    "slideshow": {
     "slide_type": ""
    },
    "tags": []
   },
   "outputs": [],
   "source": [
    "\n",
    "# TP stands for \"two prompts\". This combines the reflection and improvement into a single prompt. So we have just :\n",
    "# two LLM calls: (i) Initial translation and (ii) Reflect and Improve. \n",
    "# This is probably faster, but is more complex and (from limited evals) doesn't seem to do better. So I'm ditching this \n",
    "# approach for now despite its improved efficiency, mainly for simplicity. \n",
    "\n",
    "def tp_first_pass_translation(source_lang, target_lang, source_text): \n",
    "    system_message = f\"You are an expert language translator, specializing in {source_lang} to {target_lang} translation.\"\n",
    "     \n",
    "    translation_prompt = f\"\"\"Your task is provide a professional translation of a text from {source_lang} to {target_lang}.  \n",
    "    \n",
    "Translate the text below, delimited by XML tags <source> and </source> and output the translation. \n",
    "Do not output anything else, including the delimiter. \n",
    "  \n",
    "<source>\n",
    "{source_text}\n",
    "</source> \n",
    "\"\"\"\n",
    "\n",
    "    prompt = translation_prompt.format(source_text=source_text) \n",
    "    \n",
    "    translation = get_completion_content(prompt, system_message=system_message) \n",
    "    \n",
    "    return translation\n",
    "\n",
    "\n",
    "def tp_improve_translation(source_lang, target_lang, source_text, orig_translation):  \n",
    "    system_message = f\"You are an expert language translator and mentor, specializing in {source_lang} to {target_lang} translation.\"\n",
    "\n",
    "    improvement_prompt = \"\"\"Your task is to first constructively critique, and then improve, a translation from {source_lang} to {target_lang}. You will provide your output in JSON. \\\n",
    "The source text and original translation, delimited by XML tags <sourcetext> and <translation>, are as follows: \n",
    "\n",
    "<sourcetext>\n",
    "{source_text}\n",
    "</sourcetext>\n",
    "\n",
    "<translation>\n",
    "{orig_translation}\n",
    "</translation>\n",
    "\n",
    "First, write a list of specific, helpful and constructive suggestions for improving the translation. Each suggestion should address \\\n",
    "one specific part of the translation. When writing suggestions, pay attention to whether there are ways to improve the translation's \\\n",
    "(i) accuracy (by correcting errors of addition, mistranslation, omission, untranslated text), \n",
    "(ii) fluency (grammar, inconsistency, punctuation, register, spelling), \\\n",
    "(iii) style (fix awkward wording), \n",
    "(iv) terminology (inappropriate for context, inconsistent use), or \\\n",
    "(v) other errors. Output the list of suggestions in JSON, using the key \"suggestions\".\n",
    "\n",
    "Finally, taking the suggestions into account, write an improved translation, and output the new translation in the JSON output under the key \"new_translation\". \\\n",
    "The value at the \"new_translations\" key should be only the translated text in {target_lang}, and nothing else.\"\"\"\n",
    "\n",
    "    prompt = improvement_prompt.format(source_lang=source_lang, target_lang=target_lang, source_text=source_text, orig_translation=orig_translation) \n",
    "    completion = get_completion_content(prompt, system_message, JSON_mode=True)\n",
    "\n",
    "    #print(f\"Completion: \\n{completion}\")\n",
    "    \n",
    "    #json_part = completion[completion.find('{'):]\n",
    "    #json_part = json_part[:-4]\n",
    "\n",
    "    data = json.loads(completion) \n",
    "    improved_translation = data[\"new_translation\"]\n",
    "\n",
    "    return improved_translation\n",
    "\n",
    "\n",
    "def tp_translate_text(source_lang, target_lang, source_text):\n",
    "    translation1 = tp_first_pass_translation(source_lang, target_lang, source_text) \n",
    "    translation2 = tp_improve_translation(source_lang, target_lang, source_text, translation1)  \n",
    "\n",
    "    return translation2 \n"
   ]
  },
  {
   "cell_type": "markdown",
   "id": "22360b60-3252-4538-a445-6735501f65eb",
   "metadata": {
    "editable": true,
    "slideshow": {
     "slide_type": ""
    },
    "tags": []
   },
   "source": [
    "# Experimental Evals code"
   ]
  },
  {
   "cell_type": "code",
   "execution_count": null,
   "id": "b49596e3-71bb-45b8-a680-753fa2cae2e0",
   "metadata": {
    "editable": true,
    "slideshow": {
     "slide_type": ""
    },
    "tags": []
   },
   "outputs": [],
   "source": [
    "\n",
    "def compare_translations(source_lang, target_lang, source_text, t1, t2):\n",
    "    system_message = f\"You are an expert language translator, specializing in evaluating {source_lang} to {target_lang} translation.\"\n",
    "     \n",
    "    comparison_prompt = f\"\"\"You task is carefully read and compare two different translations from {source_lang} to {target_lang}.  \n",
    "    \n",
    "Read the source text, first translation and second translation, delimited by XML tags <SOURCE_TEXT>, <TRANSLATION_1> and <TRANSLATION_2>. \n",
    "Then reflect on the strengths and weaknesses of translation 1 and translation 2, according to \n",
    "(i) accuracy (whether they convey the meaning of the source text), and (ii) fluency.\n",
    "\n",
    "Finally output an integer score from 1 to 5, with the following meanings:\n",
    "1 if translation 1 is significantly better \n",
    "2 if translation 1 is slightly better \n",
    "3 if both translations are similar in quality\n",
    "4 if translation 2 is slightly better\n",
    "5 if translation 2 is significantly better\n",
    "\n",
    "Here is the source text, then translation 1, then translation 2:\n",
    "\n",
    "<SOURCE_TEXT>\n",
    "{source_text}\n",
    "</SOURCE_TEXT>\n",
    "\n",
    "<TRANSLATION_1> \n",
    "{t1}\n",
    "</TRANSLATION_1>\n",
    "\n",
    "<TRANSLATION_2> \n",
    "{t2}\n",
    "</TRANSLATION_2>\n",
    "\n",
    "Now, carefully read the texts again, but in reverse order. Here is translation 2, then translation 1, then the source text again:\n",
    "\n",
    "<TRANSLATION_2> \n",
    "{t2}\n",
    "</TRANSLATION_2>\n",
    "\n",
    "<TRANSLATION_1> \n",
    "{t1}\n",
    "</TRANSLATION_1>\n",
    "\n",
    "<SOURCE_TEXT>\n",
    "{source_text}\n",
    "</SOURCE_TEXT>\n",
    "\n",
    "\n",
    "The final output must be \"\"FINAL_EVALUATION: <int>\"\" where <int> is the score (1-5). Use the following scale for the output: \n",
    "1 if translation 1 is significantly better \n",
    "2 if translation 1 is slightly better \n",
    "3 if both translations are similar in quality\n",
    "4 if translation 2 is slightly better\n",
    "5 if translation 2 is significantly better\n",
    "\"\"\"\n",
    "\n",
    "    prompt = comparison_prompt.format(source_lang=source_lang, target_lang=target_lang, source_text = source_text, t1=t1, t2=t2)\n",
    "    completion = get_completion_content(prompt, system_message, JSON_mode=False)\n",
    "\n",
    "    return completion \n",
    "\n"
   ]
  },
  {
   "cell_type": "code",
   "execution_count": null,
   "id": "207875fd-51df-4999-95c0-41c14831bf7e",
   "metadata": {
    "editable": true,
    "slideshow": {
     "slide_type": ""
    },
    "tags": []
   },
   "outputs": [],
   "source": [
    "(source_lang, target_lang) = (\"English\", \"Spanish\") \n",
    "\n",
    "for i in range(10):\n",
    "    print(\"--------------------------------\\n\") \n",
    "    source_text = source_texts_list[i]\n",
    "    translation2 = translate_text(source_lang, target_lang, source_text)\n",
    "    tp_translation2 = tp_translate_text(source_lang, target_lang, source_text)\n",
    "    #print(f\"Translation (3 prompt): {translation2}\")\n",
    "    #print(f\"\\nTranslation (2 prompt): {tp_translation2}\")\n",
    "\n",
    "    eval = compare_translations(source_lang, target_lang, source_text, translation2, tp_translation2)  \n",
    "    print(eval[-200:])\n",
    "\n",
    "# Now, reverse the order in which we pass the two translations to the evals code, to test\n",
    "# how sensitive it is to this ordering\n",
    "for i in range(10):\n",
    "    print(\"REVERSED --------------------------------\\n\") \n",
    "    source_text = source_texts_list[i]\n",
    "    translation2 = translate_text(source_lang, target_lang, source_text)\n",
    "    tp_translation2 = tp_translate_text(source_lang, target_lang, source_text)\n",
    "\n",
    "    eval = compare_translations(source_lang, target_lang, source_text, tp_translation2, translation2)  \n",
    "    print(eval[-200:])\n",
    "\n"
   ]
  }
 ],
 "metadata": {
  "kernelspec": {
   "display_name": "Python 3 (ipykernel)",
   "language": "python",
   "name": "python3"
  },
  "language_info": {
   "codemirror_mode": {
    "name": "ipython",
    "version": 3
   },
   "file_extension": ".py",
   "mimetype": "text/x-python",
   "name": "python",
   "nbconvert_exporter": "python",
   "pygments_lexer": "ipython3",
   "version": "3.10.13"
  }
 },
 "nbformat": 4,
 "nbformat_minor": 5
}
